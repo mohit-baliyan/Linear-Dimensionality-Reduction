{
 "cells": [
  {
   "cell_type": "code",
   "execution_count": 2,
   "id": "0a73c40e",
   "metadata": {},
   "outputs": [],
   "source": [
    "from scipy import stats\n",
    "import pandas as pd\n",
    "\n",
    "def ttest(sample1, sample2):\n",
    "    return stats.ttest_ind(sample1, sample2, equal_var=False)"
   ]
  },
  {
   "cell_type": "code",
   "execution_count": 3,
   "id": "be0b57ed",
   "metadata": {},
   "outputs": [],
   "source": [
    "df = pd.read_csv('Cryotherapy_a.csv')"
   ]
  },
  {
   "cell_type": "code",
   "execution_count": 2,
   "id": "f7f523e0",
   "metadata": {},
   "outputs": [],
   "source": [
    "df.head(5)"
   ]
  },
  {
   "cell_type": "code",
   "execution_count": 5,
   "id": "f6616cd8",
   "metadata": {},
   "outputs": [],
   "source": [
    "full = df['D']\n",
    "kaiser = df['Kaiser']\n",
    "broken = df['Broken']\n",
    "condition = df['Condition']"
   ]
  },
  {
   "cell_type": "markdown",
   "id": "359969cb",
   "metadata": {},
   "source": [
    "# SIDFB"
   ]
  },
  {
   "cell_type": "code",
   "execution_count": 6,
   "id": "a8cffe26",
   "metadata": {},
   "outputs": [
    {
     "data": {
      "text/plain": [
       "Ttest_indResult(statistic=10.423019920459492, pvalue=1.5935802112124032e-20)"
      ]
     },
     "execution_count": 6,
     "metadata": {},
     "output_type": "execute_result"
    }
   ],
   "source": [
    "ttest(full, kaiser)"
   ]
  },
  {
   "cell_type": "code",
   "execution_count": 7,
   "id": "b90c57ad",
   "metadata": {},
   "outputs": [
    {
     "data": {
      "text/plain": [
       "Ttest_indResult(statistic=10.426950639520143, pvalue=3.2024004812833586e-20)"
      ]
     },
     "execution_count": 7,
     "metadata": {},
     "output_type": "execute_result"
    }
   ],
   "source": [
    "ttest(full, broken)"
   ]
  },
  {
   "cell_type": "code",
   "execution_count": 12,
   "id": "28d8a7d9",
   "metadata": {},
   "outputs": [],
   "source": [
    "# ttest(kaiser, condition)"
   ]
  },
  {
   "cell_type": "markdown",
   "id": "62d69e01",
   "metadata": {},
   "source": [
    "# SIDFW"
   ]
  },
  {
   "cell_type": "code",
   "execution_count": 8,
   "id": "10f65a2a",
   "metadata": {},
   "outputs": [
    {
     "data": {
      "text/plain": [
       "Ttest_indResult(statistic=-10.423019920459492, pvalue=1.5935802112124032e-20)"
      ]
     },
     "execution_count": 8,
     "metadata": {},
     "output_type": "execute_result"
    }
   ],
   "source": [
    "ttest(kaiser, full)"
   ]
  },
  {
   "cell_type": "code",
   "execution_count": 13,
   "id": "eaebfb30",
   "metadata": {},
   "outputs": [
    {
     "data": {
      "text/plain": [
       "Ttest_indResult(statistic=-2.002530045287333, pvalue=0.046808096203460506)"
      ]
     },
     "execution_count": 13,
     "metadata": {},
     "output_type": "execute_result"
    }
   ],
   "source": [
    "ttest(kaiser, broken)"
   ]
  },
  {
   "cell_type": "code",
   "execution_count": 11,
   "id": "4a83cc95",
   "metadata": {},
   "outputs": [
    {
     "data": {
      "text/plain": [
       "Ttest_indResult(statistic=-10.423019920459492, pvalue=1.5935802112124032e-20)"
      ]
     },
     "execution_count": 11,
     "metadata": {},
     "output_type": "execute_result"
    }
   ],
   "source": [
    "ttest(kaiser, condition)"
   ]
  }
 ],
 "metadata": {
  "kernelspec": {
   "display_name": "Python 3 (ipykernel)",
   "language": "python",
   "name": "python3"
  },
  "language_info": {
   "codemirror_mode": {
    "name": "ipython",
    "version": 3
   },
   "file_extension": ".py",
   "mimetype": "text/x-python",
   "name": "python",
   "nbconvert_exporter": "python",
   "pygments_lexer": "ipython3",
   "version": "3.8.10"
  }
 },
 "nbformat": 4,
 "nbformat_minor": 5
}
