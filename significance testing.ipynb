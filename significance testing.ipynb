{
 "cells": [
  {
   "cell_type": "code",
   "execution_count": 254,
   "id": "0a73c40e",
   "metadata": {},
   "outputs": [],
   "source": [
    "from scipy import stats\n",
    "import pandas as pd\n",
    "\n",
    "def ttest(sample1, sample2):\n",
    "    return stats.ttest_ind(sample1, sample2, equal_var=False)"
   ]
  },
  {
   "cell_type": "code",
   "execution_count": 290,
   "id": "be0b57ed",
   "metadata": {},
   "outputs": [],
   "source": [
    "df = pd.read_csv('logistic_maledon.mat')"
   ]
  },
  {
   "cell_type": "code",
   "execution_count": 291,
   "id": "f7f523e0",
   "metadata": {},
   "outputs": [
    {
     "data": {
      "text/html": [
       "<div>\n",
       "<style scoped>\n",
       "    .dataframe tbody tr th:only-of-type {\n",
       "        vertical-align: middle;\n",
       "    }\n",
       "\n",
       "    .dataframe tbody tr th {\n",
       "        vertical-align: top;\n",
       "    }\n",
       "\n",
       "    .dataframe thead th {\n",
       "        text-align: right;\n",
       "    }\n",
       "</style>\n",
       "<table border=\"1\" class=\"dataframe\">\n",
       "  <thead>\n",
       "    <tr style=\"text-align: right;\">\n",
       "      <th></th>\n",
       "      <th>D</th>\n",
       "      <th>Kaiser</th>\n",
       "      <th>Broken</th>\n",
       "      <th>Condition</th>\n",
       "    </tr>\n",
       "  </thead>\n",
       "  <tbody>\n",
       "    <tr>\n",
       "      <th>0</th>\n",
       "      <td>0.550000</td>\n",
       "      <td>0.565385</td>\n",
       "      <td>0.603846</td>\n",
       "      <td>0.588462</td>\n",
       "    </tr>\n",
       "    <tr>\n",
       "      <th>1</th>\n",
       "      <td>0.561538</td>\n",
       "      <td>0.600000</td>\n",
       "      <td>0.573077</td>\n",
       "      <td>0.584615</td>\n",
       "    </tr>\n",
       "    <tr>\n",
       "      <th>2</th>\n",
       "      <td>0.542308</td>\n",
       "      <td>0.576923</td>\n",
       "      <td>0.600000</td>\n",
       "      <td>0.576923</td>\n",
       "    </tr>\n",
       "    <tr>\n",
       "      <th>3</th>\n",
       "      <td>0.480769</td>\n",
       "      <td>0.530769</td>\n",
       "      <td>0.626923</td>\n",
       "      <td>0.484615</td>\n",
       "    </tr>\n",
       "    <tr>\n",
       "      <th>4</th>\n",
       "      <td>0.534615</td>\n",
       "      <td>0.573077</td>\n",
       "      <td>0.669231</td>\n",
       "      <td>0.534615</td>\n",
       "    </tr>\n",
       "  </tbody>\n",
       "</table>\n",
       "</div>"
      ],
      "text/plain": [
       "          D    Kaiser    Broken  Condition\n",
       "0  0.550000  0.565385  0.603846   0.588462\n",
       "1  0.561538  0.600000  0.573077   0.584615\n",
       "2  0.542308  0.576923  0.600000   0.576923\n",
       "3  0.480769  0.530769  0.626923   0.484615\n",
       "4  0.534615  0.573077  0.669231   0.534615"
      ]
     },
     "execution_count": 291,
     "metadata": {},
     "output_type": "execute_result"
    }
   ],
   "source": [
    "df.head(5)"
   ]
  },
  {
   "cell_type": "code",
   "execution_count": 292,
   "id": "f6616cd8",
   "metadata": {},
   "outputs": [],
   "source": [
    "full = df['D']\n",
    "kaiser = df['Kaiser']\n",
    "broken = df['Broken']\n",
    "condition = df['Condition']"
   ]
  },
  {
   "cell_type": "markdown",
   "id": "359969cb",
   "metadata": {},
   "source": [
    "# SIDFB"
   ]
  },
  {
   "cell_type": "code",
   "execution_count": 295,
   "id": "a8cffe26",
   "metadata": {},
   "outputs": [
    {
     "data": {
      "text/plain": [
       "Ttest_indResult(statistic=10.549553204954089, pvalue=7.023224278086803e-21)"
      ]
     },
     "execution_count": 295,
     "metadata": {},
     "output_type": "execute_result"
    }
   ],
   "source": [
    "ttest(broken, condition)"
   ]
  },
  {
   "cell_type": "markdown",
   "id": "62d69e01",
   "metadata": {},
   "source": [
    "# SIDFW"
   ]
  },
  {
   "cell_type": "code",
   "execution_count": 298,
   "id": "10f65a2a",
   "metadata": {},
   "outputs": [
    {
     "data": {
      "text/plain": [
       "Ttest_indResult(statistic=-13.20269301953661, pvalue=1.1063905319070369e-28)"
      ]
     },
     "execution_count": 298,
     "metadata": {},
     "output_type": "execute_result"
    }
   ],
   "source": [
    "ttest(full, broken)"
   ]
  },
  {
   "cell_type": "code",
   "execution_count": null,
   "id": "d3549191",
   "metadata": {},
   "outputs": [],
   "source": []
  }
 ],
 "metadata": {
  "kernelspec": {
   "display_name": "Python 3 (ipykernel)",
   "language": "python",
   "name": "python3"
  },
  "language_info": {
   "codemirror_mode": {
    "name": "ipython",
    "version": 3
   },
   "file_extension": ".py",
   "mimetype": "text/x-python",
   "name": "python",
   "nbconvert_exporter": "python",
   "pygments_lexer": "ipython3",
   "version": "3.8.10"
  }
 },
 "nbformat": 4,
 "nbformat_minor": 5
}
