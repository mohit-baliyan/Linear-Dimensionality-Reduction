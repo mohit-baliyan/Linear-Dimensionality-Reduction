{
 "cells": [
  {
   "cell_type": "code",
   "execution_count": 20,
   "id": "0a73c40e",
   "metadata": {},
   "outputs": [],
   "source": [
    "from scipy import stats\n",
    "import pandas as pd\n",
    "\n",
    "def ttest(sample1, sample2):\n",
    "    return stats.ttest_ind(sample1, sample2, equal_var=False)"
   ]
  },
  {
   "cell_type": "code",
   "execution_count": 21,
   "id": "be0b57ed",
   "metadata": {},
   "outputs": [],
   "source": [
    "df = pd.read_csv('knn_blood.mat')"
   ]
  },
  {
   "cell_type": "code",
   "execution_count": 22,
   "id": "f7f523e0",
   "metadata": {},
   "outputs": [
    {
     "data": {
      "text/html": [
       "<div>\n",
       "<style scoped>\n",
       "    .dataframe tbody tr th:only-of-type {\n",
       "        vertical-align: middle;\n",
       "    }\n",
       "\n",
       "    .dataframe tbody tr th {\n",
       "        vertical-align: top;\n",
       "    }\n",
       "\n",
       "    .dataframe thead th {\n",
       "        text-align: right;\n",
       "    }\n",
       "</style>\n",
       "<table border=\"1\" class=\"dataframe\">\n",
       "  <thead>\n",
       "    <tr style=\"text-align: right;\">\n",
       "      <th></th>\n",
       "      <th>D</th>\n",
       "      <th>Kaiser</th>\n",
       "      <th>Broken</th>\n",
       "      <th>Condition</th>\n",
       "    </tr>\n",
       "  </thead>\n",
       "  <tbody>\n",
       "    <tr>\n",
       "      <th>0</th>\n",
       "      <td>0.745614</td>\n",
       "      <td>0.726608</td>\n",
       "      <td>0.726608</td>\n",
       "      <td>0.736842</td>\n",
       "    </tr>\n",
       "    <tr>\n",
       "      <th>1</th>\n",
       "      <td>0.707602</td>\n",
       "      <td>0.742690</td>\n",
       "      <td>0.742690</td>\n",
       "      <td>0.716374</td>\n",
       "    </tr>\n",
       "    <tr>\n",
       "      <th>2</th>\n",
       "      <td>0.611111</td>\n",
       "      <td>0.611111</td>\n",
       "      <td>0.611111</td>\n",
       "      <td>0.611111</td>\n",
       "    </tr>\n",
       "    <tr>\n",
       "      <th>3</th>\n",
       "      <td>0.500000</td>\n",
       "      <td>0.555556</td>\n",
       "      <td>0.555556</td>\n",
       "      <td>0.500000</td>\n",
       "    </tr>\n",
       "    <tr>\n",
       "      <th>4</th>\n",
       "      <td>0.491228</td>\n",
       "      <td>0.500000</td>\n",
       "      <td>0.500000</td>\n",
       "      <td>0.491228</td>\n",
       "    </tr>\n",
       "  </tbody>\n",
       "</table>\n",
       "</div>"
      ],
      "text/plain": [
       "          D    Kaiser    Broken  Condition\n",
       "0  0.745614  0.726608  0.726608   0.736842\n",
       "1  0.707602  0.742690  0.742690   0.716374\n",
       "2  0.611111  0.611111  0.611111   0.611111\n",
       "3  0.500000  0.555556  0.555556   0.500000\n",
       "4  0.491228  0.500000  0.500000   0.491228"
      ]
     },
     "execution_count": 22,
     "metadata": {},
     "output_type": "execute_result"
    }
   ],
   "source": [
    "df.head(5)"
   ]
  },
  {
   "cell_type": "code",
   "execution_count": 23,
   "id": "f6616cd8",
   "metadata": {},
   "outputs": [],
   "source": [
    "full = df['D']\n",
    "kaiser = df['Kaiser']\n",
    "broken = df['Broken']\n",
    "condition = df['Condition']"
   ]
  },
  {
   "cell_type": "markdown",
   "id": "359969cb",
   "metadata": {},
   "source": [
    "# SIDFB"
   ]
  },
  {
   "cell_type": "code",
   "execution_count": 29,
   "id": "a8cffe26",
   "metadata": {},
   "outputs": [
    {
     "data": {
      "text/plain": [
       "Ttest_indResult(statistic=1.761001214989238, pvalue=0.07984605986890904)"
      ]
     },
     "execution_count": 29,
     "metadata": {},
     "output_type": "execute_result"
    }
   ],
   "source": [
    "ttest(full, kaiser)"
   ]
  },
  {
   "cell_type": "markdown",
   "id": "62d69e01",
   "metadata": {},
   "source": [
    "# SIDFW"
   ]
  },
  {
   "cell_type": "code",
   "execution_count": 31,
   "id": "10f65a2a",
   "metadata": {},
   "outputs": [
    {
     "data": {
      "text/plain": [
       "Ttest_indResult(statistic=-1.7630226079573275, pvalue=0.07950232472291295)"
      ]
     },
     "execution_count": 31,
     "metadata": {},
     "output_type": "execute_result"
    }
   ],
   "source": [
    "ttest(kaiser, condition)"
   ]
  },
  {
   "cell_type": "code",
   "execution_count": null,
   "id": "d3549191",
   "metadata": {},
   "outputs": [],
   "source": []
  }
 ],
 "metadata": {
  "kernelspec": {
   "display_name": "Python 3 (ipykernel)",
   "language": "python",
   "name": "python3"
  },
  "language_info": {
   "codemirror_mode": {
    "name": "ipython",
    "version": 3
   },
   "file_extension": ".py",
   "mimetype": "text/x-python",
   "name": "python",
   "nbconvert_exporter": "python",
   "pygments_lexer": "ipython3",
   "version": "3.8.10"
  }
 },
 "nbformat": 4,
 "nbformat_minor": 5
}
