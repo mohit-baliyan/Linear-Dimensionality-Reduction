{
 "cells": [
  {
   "cell_type": "code",
   "execution_count": 1,
   "id": "3ad40a8b",
   "metadata": {},
   "outputs": [],
   "source": [
    "import numpy as np\n",
    "\n",
    "from scipy.io import loadmat\n",
    "\n",
    "import pandas as pd\n",
    "\n",
    "from numpy.linalg import eig\n",
    "\n",
    "import matplotlib.pyplot as plt\n",
    "\n",
    "from scipy.stats import mode\n",
    "\n",
    "import seaborn as sns"
   ]
  },
  {
   "cell_type": "code",
   "execution_count": 2,
   "id": "6e01f057",
   "metadata": {},
   "outputs": [],
   "source": [
    "class PCA :\n",
    "    \n",
    "    \n",
    "    # ---------------function to calculate eigen values and eigen vector for any matrix\n",
    "    \n",
    "    \n",
    "    def eig_vector( self, X ) :\n",
    "        \n",
    "        # centralize\n",
    "    \n",
    "        mean = np.mean( X, 0 )\n",
    "        \n",
    "        X_stand = X - mean\n",
    "    \n",
    "        # calculate co-variance matrix\n",
    "    \n",
    "        X_cov = np.cov( np.transpose( X_stand ) )\n",
    "    \n",
    "        # find the eigenvalues and eigenvectors\n",
    "    \n",
    "        e, V = eig( X_cov )\n",
    "    \n",
    "        # sort eigen vector according to eigen values \n",
    "        \n",
    "        idx = np.argsort( -e )\n",
    "\n",
    "        e = e[idx]\n",
    "\n",
    "        V = V[:,idx]\n",
    "        \n",
    "        m, n = V.shape\n",
    "        \n",
    "        return e, V \n",
    "\n",
    "\n",
    "\n",
    "    # ----------------projection of X--------------------\n",
    "    \n",
    "    def transformation( self, X, no_of_components ) :\n",
    "        \n",
    "        e, V = self.eig_vector( X )\n",
    "        \n",
    "        p = V[:, : no_of_components ]\n",
    "    \n",
    "        # project the original dataset\n",
    "    \n",
    "        mean = np.mean( X, 0 )\n",
    "        \n",
    "        X_stand = X - mean\n",
    "    \n",
    "        X_transform = np.dot( X_stand, p )\n",
    "        \n",
    "        return X_transform"
   ]
  },
  {
   "cell_type": "code",
   "execution_count": 3,
   "id": "829f8885",
   "metadata": {},
   "outputs": [],
   "source": [
    "# function return number of components \n",
    "\n",
    "def conditional_number( X ) :\n",
    "    \n",
    "    pca = PCA()\n",
    "    \n",
    "    e, V = pca.eig_vector( X )\n",
    "    \n",
    "    e_max = e[0]\n",
    "    \n",
    "    condition = e_max / 10\n",
    "    \n",
    "    no_of_components = 0\n",
    "    \n",
    "    for i in e :\n",
    "        \n",
    "        if( i > ( condition ) ) :\n",
    "            \n",
    "            no_of_components = no_of_components + 1\n",
    "    \n",
    "    return no_of_components"
   ]
  },
  {
   "cell_type": "code",
   "execution_count": 4,
   "id": "7b72d4ee",
   "metadata": {},
   "outputs": [
    {
     "name": "stdout",
     "output_type": "stream",
     "text": [
      "(569, 30)\n",
      "(569, 1)\n"
     ]
    }
   ],
   "source": [
    "data = loadmat( 'Databases/breastCancer.mat' )\n",
    "\n",
    "X = data['X']\n",
    "\n",
    "y = data['Y']\n",
    "\n",
    "print( X.shape )\n",
    "\n",
    "print( y.shape )"
   ]
  },
  {
   "cell_type": "code",
   "execution_count": 5,
   "id": "21bd4603",
   "metadata": {},
   "outputs": [],
   "source": [
    "df = pd.DataFrame( X )"
   ]
  },
  {
   "cell_type": "code",
   "execution_count": 6,
   "id": "3f064b5a",
   "metadata": {},
   "outputs": [
    {
     "data": {
      "text/html": [
       "<div>\n",
       "<style scoped>\n",
       "    .dataframe tbody tr th:only-of-type {\n",
       "        vertical-align: middle;\n",
       "    }\n",
       "\n",
       "    .dataframe tbody tr th {\n",
       "        vertical-align: top;\n",
       "    }\n",
       "\n",
       "    .dataframe thead th {\n",
       "        text-align: right;\n",
       "    }\n",
       "</style>\n",
       "<table border=\"1\" class=\"dataframe\">\n",
       "  <thead>\n",
       "    <tr style=\"text-align: right;\">\n",
       "      <th></th>\n",
       "      <th>0</th>\n",
       "      <th>1</th>\n",
       "      <th>2</th>\n",
       "      <th>3</th>\n",
       "      <th>4</th>\n",
       "      <th>5</th>\n",
       "      <th>6</th>\n",
       "      <th>7</th>\n",
       "      <th>8</th>\n",
       "      <th>9</th>\n",
       "      <th>...</th>\n",
       "      <th>20</th>\n",
       "      <th>21</th>\n",
       "      <th>22</th>\n",
       "      <th>23</th>\n",
       "      <th>24</th>\n",
       "      <th>25</th>\n",
       "      <th>26</th>\n",
       "      <th>27</th>\n",
       "      <th>28</th>\n",
       "      <th>29</th>\n",
       "    </tr>\n",
       "  </thead>\n",
       "  <tbody>\n",
       "    <tr>\n",
       "      <th>0</th>\n",
       "      <td>17.99</td>\n",
       "      <td>10.38</td>\n",
       "      <td>122.80</td>\n",
       "      <td>1001.0</td>\n",
       "      <td>0.11840</td>\n",
       "      <td>0.27760</td>\n",
       "      <td>0.3001</td>\n",
       "      <td>0.14710</td>\n",
       "      <td>0.2419</td>\n",
       "      <td>0.07871</td>\n",
       "      <td>...</td>\n",
       "      <td>25.38</td>\n",
       "      <td>17.33</td>\n",
       "      <td>184.60</td>\n",
       "      <td>2019.0</td>\n",
       "      <td>0.1622</td>\n",
       "      <td>0.6656</td>\n",
       "      <td>0.7119</td>\n",
       "      <td>0.2654</td>\n",
       "      <td>0.4601</td>\n",
       "      <td>0.11890</td>\n",
       "    </tr>\n",
       "    <tr>\n",
       "      <th>1</th>\n",
       "      <td>20.57</td>\n",
       "      <td>17.77</td>\n",
       "      <td>132.90</td>\n",
       "      <td>1326.0</td>\n",
       "      <td>0.08474</td>\n",
       "      <td>0.07864</td>\n",
       "      <td>0.0869</td>\n",
       "      <td>0.07017</td>\n",
       "      <td>0.1812</td>\n",
       "      <td>0.05667</td>\n",
       "      <td>...</td>\n",
       "      <td>24.99</td>\n",
       "      <td>23.41</td>\n",
       "      <td>158.80</td>\n",
       "      <td>1956.0</td>\n",
       "      <td>0.1238</td>\n",
       "      <td>0.1866</td>\n",
       "      <td>0.2416</td>\n",
       "      <td>0.1860</td>\n",
       "      <td>0.2750</td>\n",
       "      <td>0.08902</td>\n",
       "    </tr>\n",
       "    <tr>\n",
       "      <th>2</th>\n",
       "      <td>19.69</td>\n",
       "      <td>21.25</td>\n",
       "      <td>130.00</td>\n",
       "      <td>1203.0</td>\n",
       "      <td>0.10960</td>\n",
       "      <td>0.15990</td>\n",
       "      <td>0.1974</td>\n",
       "      <td>0.12790</td>\n",
       "      <td>0.2069</td>\n",
       "      <td>0.05999</td>\n",
       "      <td>...</td>\n",
       "      <td>23.57</td>\n",
       "      <td>25.53</td>\n",
       "      <td>152.50</td>\n",
       "      <td>1709.0</td>\n",
       "      <td>0.1444</td>\n",
       "      <td>0.4245</td>\n",
       "      <td>0.4504</td>\n",
       "      <td>0.2430</td>\n",
       "      <td>0.3613</td>\n",
       "      <td>0.08758</td>\n",
       "    </tr>\n",
       "    <tr>\n",
       "      <th>3</th>\n",
       "      <td>11.42</td>\n",
       "      <td>20.38</td>\n",
       "      <td>77.58</td>\n",
       "      <td>386.1</td>\n",
       "      <td>0.14250</td>\n",
       "      <td>0.28390</td>\n",
       "      <td>0.2414</td>\n",
       "      <td>0.10520</td>\n",
       "      <td>0.2597</td>\n",
       "      <td>0.09744</td>\n",
       "      <td>...</td>\n",
       "      <td>14.91</td>\n",
       "      <td>26.50</td>\n",
       "      <td>98.87</td>\n",
       "      <td>567.7</td>\n",
       "      <td>0.2098</td>\n",
       "      <td>0.8663</td>\n",
       "      <td>0.6869</td>\n",
       "      <td>0.2575</td>\n",
       "      <td>0.6638</td>\n",
       "      <td>0.17300</td>\n",
       "    </tr>\n",
       "    <tr>\n",
       "      <th>4</th>\n",
       "      <td>20.29</td>\n",
       "      <td>14.34</td>\n",
       "      <td>135.10</td>\n",
       "      <td>1297.0</td>\n",
       "      <td>0.10030</td>\n",
       "      <td>0.13280</td>\n",
       "      <td>0.1980</td>\n",
       "      <td>0.10430</td>\n",
       "      <td>0.1809</td>\n",
       "      <td>0.05883</td>\n",
       "      <td>...</td>\n",
       "      <td>22.54</td>\n",
       "      <td>16.67</td>\n",
       "      <td>152.20</td>\n",
       "      <td>1575.0</td>\n",
       "      <td>0.1374</td>\n",
       "      <td>0.2050</td>\n",
       "      <td>0.4000</td>\n",
       "      <td>0.1625</td>\n",
       "      <td>0.2364</td>\n",
       "      <td>0.07678</td>\n",
       "    </tr>\n",
       "  </tbody>\n",
       "</table>\n",
       "<p>5 rows × 30 columns</p>\n",
       "</div>"
      ],
      "text/plain": [
       "      0      1       2       3        4        5       6        7       8   \\\n",
       "0  17.99  10.38  122.80  1001.0  0.11840  0.27760  0.3001  0.14710  0.2419   \n",
       "1  20.57  17.77  132.90  1326.0  0.08474  0.07864  0.0869  0.07017  0.1812   \n",
       "2  19.69  21.25  130.00  1203.0  0.10960  0.15990  0.1974  0.12790  0.2069   \n",
       "3  11.42  20.38   77.58   386.1  0.14250  0.28390  0.2414  0.10520  0.2597   \n",
       "4  20.29  14.34  135.10  1297.0  0.10030  0.13280  0.1980  0.10430  0.1809   \n",
       "\n",
       "        9   ...     20     21      22      23      24      25      26      27  \\\n",
       "0  0.07871  ...  25.38  17.33  184.60  2019.0  0.1622  0.6656  0.7119  0.2654   \n",
       "1  0.05667  ...  24.99  23.41  158.80  1956.0  0.1238  0.1866  0.2416  0.1860   \n",
       "2  0.05999  ...  23.57  25.53  152.50  1709.0  0.1444  0.4245  0.4504  0.2430   \n",
       "3  0.09744  ...  14.91  26.50   98.87   567.7  0.2098  0.8663  0.6869  0.2575   \n",
       "4  0.05883  ...  22.54  16.67  152.20  1575.0  0.1374  0.2050  0.4000  0.1625   \n",
       "\n",
       "       28       29  \n",
       "0  0.4601  0.11890  \n",
       "1  0.2750  0.08902  \n",
       "2  0.3613  0.08758  \n",
       "3  0.6638  0.17300  \n",
       "4  0.2364  0.07678  \n",
       "\n",
       "[5 rows x 30 columns]"
      ]
     },
     "execution_count": 6,
     "metadata": {},
     "output_type": "execute_result"
    }
   ],
   "source": [
    "df.head( 5 )"
   ]
  },
  {
   "cell_type": "code",
   "execution_count": 7,
   "id": "25dcf06c",
   "metadata": {},
   "outputs": [
    {
     "data": {
      "text/plain": [
       "array([[1],\n",
       "       [1],\n",
       "       [1],\n",
       "       [1],\n",
       "       [1]], dtype=uint8)"
      ]
     },
     "execution_count": 7,
     "metadata": {},
     "output_type": "execute_result"
    }
   ],
   "source": [
    "y[:5]"
   ]
  },
  {
   "cell_type": "code",
   "execution_count": 8,
   "id": "2c52fd34",
   "metadata": {},
   "outputs": [
    {
     "data": {
      "text/plain": [
       "(569, 30)"
      ]
     },
     "execution_count": 8,
     "metadata": {},
     "output_type": "execute_result"
    }
   ],
   "source": [
    "X.shape"
   ]
  },
  {
   "cell_type": "code",
   "execution_count": 9,
   "id": "a12262c3",
   "metadata": {},
   "outputs": [
    {
     "name": "stdout",
     "output_type": "stream",
     "text": [
      "Conditional number :  1\n"
     ]
    }
   ],
   "source": [
    "no_of_components_conditonal_number = conditional_number( X )\n",
    "\n",
    "print( \"Conditional number : \", no_of_components_conditonal_number )"
   ]
  },
  {
   "cell_type": "code",
   "execution_count": 10,
   "id": "391b367b",
   "metadata": {},
   "outputs": [],
   "source": [
    "pca = PCA()\n",
    "\n",
    "X_conditional_number = pca.transformation( X, no_of_components_conditonal_number )"
   ]
  },
  {
   "cell_type": "code",
   "execution_count": 11,
   "id": "05854a00",
   "metadata": {},
   "outputs": [
    {
     "name": "stdout",
     "output_type": "stream",
     "text": [
      "(569, 1)\n",
      "(569, 1)\n",
      "0    357\n",
      "1    212\n",
      "dtype: int64\n"
     ]
    }
   ],
   "source": [
    "print( X_conditional_number.shape )\n",
    "\n",
    "print( y.shape )\n",
    "\n",
    "print( pd.DataFrame( y ).value_counts() ) "
   ]
  },
  {
   "cell_type": "code",
   "execution_count": 12,
   "id": "255a7130",
   "metadata": {},
   "outputs": [
    {
     "name": "stderr",
     "output_type": "stream",
     "text": [
      "/home/mohit-baliyan/miniconda3/envs/Five-Day/lib/python3.7/site-packages/seaborn/_decorators.py:43: FutureWarning: Pass the following variables as keyword args: x, y. From version 0.12, the only valid positional argument will be `data`, and passing other arguments without an explicit keyword will result in an error or misinterpretation.\n",
      "  FutureWarning\n"
     ]
    },
    {
     "data": {
      "text/plain": [
       "<AxesSubplot:>"
      ]
     },
     "execution_count": 12,
     "metadata": {},
     "output_type": "execute_result"
    },
    {
     "data": {
      "image/png": "[encoded data removed]",
      "text/plain": [
       "<Figure size 432x288 with 1 Axes>"
      ]
     },
     "metadata": {
      "needs_background": "light"
     },
     "output_type": "display_data"
    }
   ],
   "source": [
    "sns.barplot( [ 0, 1 ] , pd.DataFrame( y ).value_counts() )"
   ]
  },
  {
   "cell_type": "code",
   "execution_count": 13,
   "id": "0fc30f60",
   "metadata": {},
   "outputs": [],
   "source": [
    "from sklearn.model_selection import train_test_split"
   ]
  },
  {
   "cell_type": "code",
   "execution_count": 14,
   "id": "ea00af31",
   "metadata": {},
   "outputs": [],
   "source": [
    "X_train, X_test, y_train, y_test = train_test_split( X_conditional_number, y, test_size = 0.30, shuffle = True )"
   ]
  },
  {
   "cell_type": "code",
   "execution_count": 15,
   "id": "78fe0303",
   "metadata": {},
   "outputs": [
    {
     "name": "stderr",
     "output_type": "stream",
     "text": [
      "/home/mohit-baliyan/miniconda3/envs/Five-Day/lib/python3.7/site-packages/sklearn/utils/validation.py:72: DataConversionWarning: A column-vector y was passed when a 1d array was expected. Please change the shape of y to (n_samples, ), for example using ravel().\n",
      "  return f(**kwargs)\n"
     ]
    }
   ],
   "source": [
    "from sklearn.linear_model import LogisticRegression\n",
    "\n",
    "logit = LogisticRegression()\n",
    "\n",
    "logit.fit( X_train, y_train )\n",
    "\n",
    "y_pred = logit.predict( X_test )"
   ]
  },
  {
   "cell_type": "markdown",
   "id": "59c1e02c",
   "metadata": {},
   "source": [
    "# Confusion Matrix"
   ]
  },
  {
   "cell_type": "code",
   "execution_count": 16,
   "id": "0c6e85f3",
   "metadata": {},
   "outputs": [],
   "source": [
    "from sklearn.metrics import confusion_matrix, plot_confusion_matrix\n",
    "\n",
    "TN, FP, FN, TP = confusion_matrix( y_test, y_pred ).ravel()"
   ]
  },
  {
   "cell_type": "code",
   "execution_count": 17,
   "id": "3726e030",
   "metadata": {},
   "outputs": [
    {
     "name": "stdout",
     "output_type": "stream",
     "text": [
      "True Negative  :  113\n",
      "False Positive :  6\n",
      "False Negative :  9\n",
      "True Positive :  43\n"
     ]
    }
   ],
   "source": [
    "print( \"True Negative  : \", TN )\n",
    "\n",
    "print( \"False Positive : \", FP )\n",
    "\n",
    "print( \"False Negative : \", FN )\n",
    "\n",
    "print( \"True Positive : \", TP )"
   ]
  },
  {
   "cell_type": "code",
   "execution_count": 18,
   "id": "a357cb47",
   "metadata": {},
   "outputs": [
    {
     "data": {
      "text/plain": [
       "<sklearn.metrics._plot.confusion_matrix.ConfusionMatrixDisplay at 0x7f40118c60d0>"
      ]
     },
     "execution_count": 18,
     "metadata": {},
     "output_type": "execute_result"
    },
    {
     "data": {
      "image/png": "[encoded data removed]",
      "text/plain": [
       "<Figure size 432x288 with 2 Axes>"
      ]
     },
     "metadata": {
      "needs_background": "light"
     },
     "output_type": "display_data"
    }
   ],
   "source": [
    "plot_confusion_matrix( logit, X_test, y_test )"
   ]
  },
  {
   "cell_type": "markdown",
   "id": "a49f9fb1",
   "metadata": {},
   "source": [
    "# Accuracy Score"
   ]
  },
  {
   "cell_type": "code",
   "execution_count": 19,
   "id": "f611ee45",
   "metadata": {},
   "outputs": [
    {
     "data": {
      "text/plain": [
       "0.9122807017543859"
      ]
     },
     "execution_count": 19,
     "metadata": {},
     "output_type": "execute_result"
    }
   ],
   "source": [
    "from sklearn.metrics import accuracy_score\n",
    "\n",
    "accuracy_score( y_test, y_pred )"
   ]
  },
  {
   "cell_type": "markdown",
   "id": "9e049f98",
   "metadata": {},
   "source": [
    "# Error Rate"
   ]
  },
  {
   "cell_type": "code",
   "execution_count": 20,
   "id": "99441aeb",
   "metadata": {},
   "outputs": [
    {
     "data": {
      "text/plain": [
       "0.08771929824561409"
      ]
     },
     "execution_count": 20,
     "metadata": {},
     "output_type": "execute_result"
    }
   ],
   "source": [
    "1 - accuracy_score( y_test, y_pred )"
   ]
  },
  {
   "cell_type": "markdown",
   "id": "01710f7b",
   "metadata": {},
   "source": [
    "# Recall or True Positive Rate or Sensitivity"
   ]
  },
  {
   "cell_type": "code",
   "execution_count": 22,
   "id": "7096cf73",
   "metadata": {},
   "outputs": [
    {
     "data": {
      "text/plain": [
       "0.8269230769230769"
      ]
     },
     "execution_count": 22,
     "metadata": {},
     "output_type": "execute_result"
    }
   ],
   "source": [
    "recall = TP / ( TP + FN )\n",
    "\n",
    "recall"
   ]
  },
  {
   "cell_type": "markdown",
   "id": "23a53f38",
   "metadata": {},
   "source": [
    "# Precision"
   ]
  },
  {
   "cell_type": "code",
   "execution_count": 24,
   "id": "7e111265",
   "metadata": {},
   "outputs": [
    {
     "data": {
      "text/plain": [
       "0.8775510204081632"
      ]
     },
     "execution_count": 24,
     "metadata": {},
     "output_type": "execute_result"
    }
   ],
   "source": [
    "precision = TP / ( TP + FP )\n",
    "\n",
    "precision"
   ]
  },
  {
   "cell_type": "markdown",
   "id": "f6efbd8b",
   "metadata": {},
   "source": [
    "# Specificity (or Selectivity or True Negative Rate) "
   ]
  },
  {
   "cell_type": "code",
   "execution_count": 25,
   "id": "7360e8cf",
   "metadata": {},
   "outputs": [
    {
     "data": {
      "text/plain": [
       "0.9495798319327731"
      ]
     },
     "execution_count": 25,
     "metadata": {},
     "output_type": "execute_result"
    }
   ],
   "source": [
    "specificity = TN / ( TN + FP )\n",
    "\n",
    "specificity"
   ]
  },
  {
   "cell_type": "markdown",
   "id": "fec88823",
   "metadata": {},
   "source": [
    "# F1 Score "
   ]
  },
  {
   "cell_type": "code",
   "execution_count": 26,
   "id": "5abfece9",
   "metadata": {},
   "outputs": [
    {
     "data": {
      "text/plain": [
       "0.8514851485148514"
      ]
     },
     "execution_count": 26,
     "metadata": {},
     "output_type": "execute_result"
    }
   ],
   "source": [
    "F1 = 2 * ( recall * precision ) / ( recall + precision )\n",
    "\n",
    "F1 "
   ]
  },
  {
   "cell_type": "markdown",
   "id": "97b48ba2",
   "metadata": {},
   "source": [
    "# Balanced Accuracy "
   ]
  },
  {
   "cell_type": "code",
   "execution_count": 29,
   "id": "fb6253ce",
   "metadata": {},
   "outputs": [
    {
     "data": {
      "text/plain": [
       "0.888251454427925"
      ]
     },
     "execution_count": 29,
     "metadata": {},
     "output_type": "execute_result"
    }
   ],
   "source": [
    "balanced_accuracy = ( recall + specificity ) / 2 \n",
    "\n",
    "balanced_accuracy"
   ]
  }
 ],
 "metadata": {
  "kernelspec": {
   "display_name": "Python 3",
   "language": "python",
   "name": "python3"
  },
  "language_info": {
   "codemirror_mode": {
    "name": "ipython",
    "version": 3
   },
   "file_extension": ".py",
   "mimetype": "text/x-python",
   "name": "python",
   "nbconvert_exporter": "python",
   "pygments_lexer": "ipython3",
   "version": "3.7.6"
  }
 },
 "nbformat": 4,
 "nbformat_minor": 5
}
