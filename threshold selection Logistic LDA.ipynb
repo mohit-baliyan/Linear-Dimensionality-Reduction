{
 "cells": [
  {
   "cell_type": "code",
   "execution_count": 1,
   "id": "71b3893b",
   "metadata": {},
   "outputs": [],
   "source": [
    "import numpy as np"
   ]
  },
  {
   "cell_type": "code",
   "execution_count": null,
   "id": "2a4f962e",
   "metadata": {},
   "outputs": [],
   "source": [
    "def threshold_selection( y0, y1 ) :\n",
    "    \n",
    "    \n",
    "    # number of examples of both classes\n",
    "    \n",
    "    len_y0 = np.size( y0 )\n",
    "    \n",
    "    len_y1 = np.size( y1 )\n",
    "    \n",
    "    # total number of examples \n",
    "    \n",
    "    total = len_y0 + len_y1\n",
    "    \n",
    "    \n",
    "    \n",
    "    # define set of unique values with all possible points\n",
    "    \n",
    "    thres = np.unique( np.concatenate( ( y0, y1 ) ) )\n",
    "    \n",
    "    # add all borders\n",
    "    \n",
    "    thres = ( thres[1:] + thres[:-1] ) / 2\n",
    "    \n",
    "    \n",
    "    \n",
    "    \n",
    "    \n",
    "    \n",
    "    \n",
    "    \n",
    "    "
   ]
  },
  {
   "cell_type": "code",
   "execution_count": null,
   "id": "22d4db56",
   "metadata": {},
   "outputs": [],
   "source": [
    "def unique( )"
   ]
  },
  {
   "cell_type": "code",
   "execution_count": 5,
   "id": "d070ceb7",
   "metadata": {},
   "outputs": [],
   "source": [
    "y0 = np.array( [0, 2, 3 ] )\n",
    "\n",
    "y1 = np.array( [ 1, 2, 3, 3, 4, 8 ] )"
   ]
  },
  {
   "cell_type": "code",
   "execution_count": 10,
   "id": "7183b841",
   "metadata": {},
   "outputs": [],
   "source": [
    "k = np.unique( np.concatenate( ( y0, y1 ) ) )"
   ]
  },
  {
   "cell_type": "code",
   "execution_count": 16,
   "id": "38350b7a",
   "metadata": {},
   "outputs": [
    {
     "data": {
      "text/plain": [
       "array([0, 2])"
      ]
     },
     "execution_count": 16,
     "metadata": {},
     "output_type": "execute_result"
    }
   ],
   "source": [
    "y0[:-1]"
   ]
  },
  {
   "cell_type": "code",
   "execution_count": 13,
   "id": "8c37b3f4",
   "metadata": {},
   "outputs": [],
   "source": [
    "l = ( k[1:] + k [:5] )"
   ]
  },
  {
   "cell_type": "code",
   "execution_count": 15,
   "id": "fd54835a",
   "metadata": {},
   "outputs": [
    {
     "data": {
      "text/plain": [
       "array([0.5, 1.5, 2.5, 3.5, 6. ])"
      ]
     },
     "execution_count": 15,
     "metadata": {},
     "output_type": "execute_result"
    }
   ],
   "source": [
    "l / 2"
   ]
  },
  {
   "cell_type": "code",
   "execution_count": null,
   "id": "6854c325",
   "metadata": {},
   "outputs": [],
   "source": []
  }
 ],
 "metadata": {
  "kernelspec": {
   "display_name": "Python 3",
   "language": "python",
   "name": "python3"
  },
  "language_info": {
   "codemirror_mode": {
    "name": "ipython",
    "version": 3
   },
   "file_extension": ".py",
   "mimetype": "text/x-python",
   "name": "python",
   "nbconvert_exporter": "python",
   "pygments_lexer": "ipython3",
   "version": "3.7.6"
  }
 },
 "nbformat": 4,
 "nbformat_minor": 5
}
